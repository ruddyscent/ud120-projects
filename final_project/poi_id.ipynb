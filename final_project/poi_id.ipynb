{
 "cells": [
  {
   "cell_type": "markdown",
   "metadata": {},
   "source": [
    "This project is to identify Enron employees who may have committed fraud based on the public Enron financial and email dataset. The machine learning algorithms are suitable to detect implicit patterns in a large amount of data without explicit methodology. With given the data on which the fraud is marked, we have to classify unknown fraud from the data. This corresponds to the supervised machine learning."
   ]
  },
  {
   "cell_type": "markdown",
   "metadata": {},
   "source": [
    "### Task 1: Select what features you'll use."
   ]
  },
  {
   "cell_type": "code",
   "execution_count": 2,
   "metadata": {},
   "outputs": [],
   "source": [
    "import sys\n",
    "import pickle\n",
    "sys.path.append(\"../tools/\")\n",
    "\n",
    "from feature_format import featureFormat, targetFeatureSplit\n",
    "from tester import dump_classifier_and_data\n",
    "\n",
    "### Load the dictionary containing the dataset\n",
    "with open(\"final_project_dataset.pkl\", \"rb\") as data_file:\n",
    "    data_dict = pickle.load(data_file)"
   ]
  },
  {
   "cell_type": "markdown",
   "metadata": {},
   "source": [
    "There are 146 data points with 21 features. The data consists of integers and string."
   ]
  },
  {
   "cell_type": "code",
   "execution_count": 102,
   "metadata": {
    "scrolled": true
   },
   "outputs": [
    {
     "data": {
      "text/plain": [
       "(146, 21)"
      ]
     },
     "execution_count": 102,
     "metadata": {},
     "output_type": "execute_result"
    }
   ],
   "source": [
    "import pandas as pd\n",
    "%matplotlib inline\n",
    "\n",
    "data_df = pd.DataFrame.from_dict(data_dict, orient='index')\n",
    "data_df.shape"
   ]
  },
  {
   "cell_type": "code",
   "execution_count": 103,
   "metadata": {},
   "outputs": [
    {
     "data": {
      "text/html": [
       "<div>\n",
       "<style scoped>\n",
       "    .dataframe tbody tr th:only-of-type {\n",
       "        vertical-align: middle;\n",
       "    }\n",
       "\n",
       "    .dataframe tbody tr th {\n",
       "        vertical-align: top;\n",
       "    }\n",
       "\n",
       "    .dataframe thead th {\n",
       "        text-align: right;\n",
       "    }\n",
       "</style>\n",
       "<table border=\"1\" class=\"dataframe\">\n",
       "  <thead>\n",
       "    <tr style=\"text-align: right;\">\n",
       "      <th></th>\n",
       "      <th>salary</th>\n",
       "      <th>to_messages</th>\n",
       "      <th>deferral_payments</th>\n",
       "      <th>total_payments</th>\n",
       "      <th>loan_advances</th>\n",
       "      <th>bonus</th>\n",
       "      <th>email_address</th>\n",
       "      <th>restricted_stock_deferred</th>\n",
       "      <th>deferred_income</th>\n",
       "      <th>total_stock_value</th>\n",
       "      <th>...</th>\n",
       "      <th>from_poi_to_this_person</th>\n",
       "      <th>exercised_stock_options</th>\n",
       "      <th>from_messages</th>\n",
       "      <th>other</th>\n",
       "      <th>from_this_person_to_poi</th>\n",
       "      <th>poi</th>\n",
       "      <th>long_term_incentive</th>\n",
       "      <th>shared_receipt_with_poi</th>\n",
       "      <th>restricted_stock</th>\n",
       "      <th>director_fees</th>\n",
       "    </tr>\n",
       "  </thead>\n",
       "  <tbody>\n",
       "    <tr>\n",
       "      <th>ALLEN PHILLIP K</th>\n",
       "      <td>201955</td>\n",
       "      <td>2902</td>\n",
       "      <td>2869717</td>\n",
       "      <td>4484442</td>\n",
       "      <td>NaN</td>\n",
       "      <td>4175000</td>\n",
       "      <td>phillip.allen@enron.com</td>\n",
       "      <td>-126027</td>\n",
       "      <td>-3081055</td>\n",
       "      <td>1729541</td>\n",
       "      <td>...</td>\n",
       "      <td>47</td>\n",
       "      <td>1729541</td>\n",
       "      <td>2195</td>\n",
       "      <td>152</td>\n",
       "      <td>65</td>\n",
       "      <td>False</td>\n",
       "      <td>304805</td>\n",
       "      <td>1407</td>\n",
       "      <td>126027</td>\n",
       "      <td>NaN</td>\n",
       "    </tr>\n",
       "    <tr>\n",
       "      <th>BADUM JAMES P</th>\n",
       "      <td>NaN</td>\n",
       "      <td>NaN</td>\n",
       "      <td>178980</td>\n",
       "      <td>182466</td>\n",
       "      <td>NaN</td>\n",
       "      <td>NaN</td>\n",
       "      <td>NaN</td>\n",
       "      <td>NaN</td>\n",
       "      <td>NaN</td>\n",
       "      <td>257817</td>\n",
       "      <td>...</td>\n",
       "      <td>NaN</td>\n",
       "      <td>257817</td>\n",
       "      <td>NaN</td>\n",
       "      <td>NaN</td>\n",
       "      <td>NaN</td>\n",
       "      <td>False</td>\n",
       "      <td>NaN</td>\n",
       "      <td>NaN</td>\n",
       "      <td>NaN</td>\n",
       "      <td>NaN</td>\n",
       "    </tr>\n",
       "    <tr>\n",
       "      <th>BANNANTINE JAMES M</th>\n",
       "      <td>477</td>\n",
       "      <td>566</td>\n",
       "      <td>NaN</td>\n",
       "      <td>916197</td>\n",
       "      <td>NaN</td>\n",
       "      <td>NaN</td>\n",
       "      <td>james.bannantine@enron.com</td>\n",
       "      <td>-560222</td>\n",
       "      <td>-5104</td>\n",
       "      <td>5243487</td>\n",
       "      <td>...</td>\n",
       "      <td>39</td>\n",
       "      <td>4046157</td>\n",
       "      <td>29</td>\n",
       "      <td>864523</td>\n",
       "      <td>0</td>\n",
       "      <td>False</td>\n",
       "      <td>NaN</td>\n",
       "      <td>465</td>\n",
       "      <td>1757552</td>\n",
       "      <td>NaN</td>\n",
       "    </tr>\n",
       "    <tr>\n",
       "      <th>BAXTER JOHN C</th>\n",
       "      <td>267102</td>\n",
       "      <td>NaN</td>\n",
       "      <td>1295738</td>\n",
       "      <td>5634343</td>\n",
       "      <td>NaN</td>\n",
       "      <td>1200000</td>\n",
       "      <td>NaN</td>\n",
       "      <td>NaN</td>\n",
       "      <td>-1386055</td>\n",
       "      <td>10623258</td>\n",
       "      <td>...</td>\n",
       "      <td>NaN</td>\n",
       "      <td>6680544</td>\n",
       "      <td>NaN</td>\n",
       "      <td>2660303</td>\n",
       "      <td>NaN</td>\n",
       "      <td>False</td>\n",
       "      <td>1586055</td>\n",
       "      <td>NaN</td>\n",
       "      <td>3942714</td>\n",
       "      <td>NaN</td>\n",
       "    </tr>\n",
       "    <tr>\n",
       "      <th>BAY FRANKLIN R</th>\n",
       "      <td>239671</td>\n",
       "      <td>NaN</td>\n",
       "      <td>260455</td>\n",
       "      <td>827696</td>\n",
       "      <td>NaN</td>\n",
       "      <td>400000</td>\n",
       "      <td>frank.bay@enron.com</td>\n",
       "      <td>-82782</td>\n",
       "      <td>-201641</td>\n",
       "      <td>63014</td>\n",
       "      <td>...</td>\n",
       "      <td>NaN</td>\n",
       "      <td>NaN</td>\n",
       "      <td>NaN</td>\n",
       "      <td>69</td>\n",
       "      <td>NaN</td>\n",
       "      <td>False</td>\n",
       "      <td>NaN</td>\n",
       "      <td>NaN</td>\n",
       "      <td>145796</td>\n",
       "      <td>NaN</td>\n",
       "    </tr>\n",
       "  </tbody>\n",
       "</table>\n",
       "<p>5 rows × 21 columns</p>\n",
       "</div>"
      ],
      "text/plain": [
       "                    salary to_messages deferral_payments total_payments  \\\n",
       "ALLEN PHILLIP K     201955        2902           2869717        4484442   \n",
       "BADUM JAMES P          NaN         NaN            178980         182466   \n",
       "BANNANTINE JAMES M     477         566               NaN         916197   \n",
       "BAXTER JOHN C       267102         NaN           1295738        5634343   \n",
       "BAY FRANKLIN R      239671         NaN            260455         827696   \n",
       "\n",
       "                   loan_advances    bonus               email_address  \\\n",
       "ALLEN PHILLIP K              NaN  4175000     phillip.allen@enron.com   \n",
       "BADUM JAMES P                NaN      NaN                         NaN   \n",
       "BANNANTINE JAMES M           NaN      NaN  james.bannantine@enron.com   \n",
       "BAXTER JOHN C                NaN  1200000                         NaN   \n",
       "BAY FRANKLIN R               NaN   400000         frank.bay@enron.com   \n",
       "\n",
       "                   restricted_stock_deferred deferred_income  \\\n",
       "ALLEN PHILLIP K                      -126027        -3081055   \n",
       "BADUM JAMES P                            NaN             NaN   \n",
       "BANNANTINE JAMES M                   -560222           -5104   \n",
       "BAXTER JOHN C                            NaN        -1386055   \n",
       "BAY FRANKLIN R                        -82782         -201641   \n",
       "\n",
       "                   total_stock_value      ...      from_poi_to_this_person  \\\n",
       "ALLEN PHILLIP K              1729541      ...                           47   \n",
       "BADUM JAMES P                 257817      ...                          NaN   \n",
       "BANNANTINE JAMES M           5243487      ...                           39   \n",
       "BAXTER JOHN C               10623258      ...                          NaN   \n",
       "BAY FRANKLIN R                 63014      ...                          NaN   \n",
       "\n",
       "                   exercised_stock_options from_messages    other  \\\n",
       "ALLEN PHILLIP K                    1729541          2195      152   \n",
       "BADUM JAMES P                       257817           NaN      NaN   \n",
       "BANNANTINE JAMES M                 4046157            29   864523   \n",
       "BAXTER JOHN C                      6680544           NaN  2660303   \n",
       "BAY FRANKLIN R                         NaN           NaN       69   \n",
       "\n",
       "                   from_this_person_to_poi    poi  long_term_incentive  \\\n",
       "ALLEN PHILLIP K                         65  False               304805   \n",
       "BADUM JAMES P                          NaN  False                  NaN   \n",
       "BANNANTINE JAMES M                       0  False                  NaN   \n",
       "BAXTER JOHN C                          NaN  False              1586055   \n",
       "BAY FRANKLIN R                         NaN  False                  NaN   \n",
       "\n",
       "                   shared_receipt_with_poi restricted_stock director_fees  \n",
       "ALLEN PHILLIP K                       1407           126027           NaN  \n",
       "BADUM JAMES P                          NaN              NaN           NaN  \n",
       "BANNANTINE JAMES M                     465          1757552           NaN  \n",
       "BAXTER JOHN C                          NaN          3942714           NaN  \n",
       "BAY FRANKLIN R                         NaN           145796           NaN  \n",
       "\n",
       "[5 rows x 21 columns]"
      ]
     },
     "execution_count": 103,
     "metadata": {},
     "output_type": "execute_result"
    }
   ],
   "source": [
    "data_df.head()"
   ]
  },
  {
   "cell_type": "markdown",
   "metadata": {},
   "source": [
    "The string 'NaN' values are replaced with NumPy NaN for the sake of convenience."
   ]
  },
  {
   "cell_type": "code",
   "execution_count": 105,
   "metadata": {
    "scrolled": true
   },
   "outputs": [
    {
     "data": {
      "text/html": [
       "<div>\n",
       "<style scoped>\n",
       "    .dataframe tbody tr th:only-of-type {\n",
       "        vertical-align: middle;\n",
       "    }\n",
       "\n",
       "    .dataframe tbody tr th {\n",
       "        vertical-align: top;\n",
       "    }\n",
       "\n",
       "    .dataframe thead th {\n",
       "        text-align: right;\n",
       "    }\n",
       "</style>\n",
       "<table border=\"1\" class=\"dataframe\">\n",
       "  <thead>\n",
       "    <tr style=\"text-align: right;\">\n",
       "      <th></th>\n",
       "      <th>salary</th>\n",
       "      <th>to_messages</th>\n",
       "      <th>deferral_payments</th>\n",
       "      <th>total_payments</th>\n",
       "      <th>loan_advances</th>\n",
       "      <th>bonus</th>\n",
       "      <th>restricted_stock_deferred</th>\n",
       "      <th>deferred_income</th>\n",
       "      <th>total_stock_value</th>\n",
       "      <th>expenses</th>\n",
       "      <th>from_poi_to_this_person</th>\n",
       "      <th>exercised_stock_options</th>\n",
       "      <th>from_messages</th>\n",
       "      <th>other</th>\n",
       "      <th>from_this_person_to_poi</th>\n",
       "      <th>long_term_incentive</th>\n",
       "      <th>shared_receipt_with_poi</th>\n",
       "      <th>restricted_stock</th>\n",
       "      <th>director_fees</th>\n",
       "    </tr>\n",
       "  </thead>\n",
       "  <tbody>\n",
       "    <tr>\n",
       "      <th>count</th>\n",
       "      <td>9.500000e+01</td>\n",
       "      <td>86.000000</td>\n",
       "      <td>3.900000e+01</td>\n",
       "      <td>1.250000e+02</td>\n",
       "      <td>4.000000e+00</td>\n",
       "      <td>8.200000e+01</td>\n",
       "      <td>1.800000e+01</td>\n",
       "      <td>4.900000e+01</td>\n",
       "      <td>1.260000e+02</td>\n",
       "      <td>9.500000e+01</td>\n",
       "      <td>86.000000</td>\n",
       "      <td>1.020000e+02</td>\n",
       "      <td>86.000000</td>\n",
       "      <td>9.300000e+01</td>\n",
       "      <td>86.000000</td>\n",
       "      <td>6.600000e+01</td>\n",
       "      <td>86.000000</td>\n",
       "      <td>1.100000e+02</td>\n",
       "      <td>1.700000e+01</td>\n",
       "    </tr>\n",
       "    <tr>\n",
       "      <th>mean</th>\n",
       "      <td>5.621943e+05</td>\n",
       "      <td>2073.860465</td>\n",
       "      <td>1.642674e+06</td>\n",
       "      <td>5.081526e+06</td>\n",
       "      <td>4.196250e+07</td>\n",
       "      <td>2.374235e+06</td>\n",
       "      <td>1.664106e+05</td>\n",
       "      <td>-1.140475e+06</td>\n",
       "      <td>6.773957e+06</td>\n",
       "      <td>1.087289e+05</td>\n",
       "      <td>64.895349</td>\n",
       "      <td>5.987054e+06</td>\n",
       "      <td>608.790698</td>\n",
       "      <td>9.190650e+05</td>\n",
       "      <td>41.232558</td>\n",
       "      <td>1.470361e+06</td>\n",
       "      <td>1176.465116</td>\n",
       "      <td>2.321741e+06</td>\n",
       "      <td>1.668049e+05</td>\n",
       "    </tr>\n",
       "    <tr>\n",
       "      <th>std</th>\n",
       "      <td>2.716369e+06</td>\n",
       "      <td>2582.700981</td>\n",
       "      <td>5.161930e+06</td>\n",
       "      <td>2.906172e+07</td>\n",
       "      <td>4.708321e+07</td>\n",
       "      <td>1.071333e+07</td>\n",
       "      <td>4.201494e+06</td>\n",
       "      <td>4.025406e+06</td>\n",
       "      <td>3.895777e+07</td>\n",
       "      <td>5.335348e+05</td>\n",
       "      <td>86.979244</td>\n",
       "      <td>3.106201e+07</td>\n",
       "      <td>1841.033949</td>\n",
       "      <td>4.589253e+06</td>\n",
       "      <td>100.073111</td>\n",
       "      <td>5.942759e+06</td>\n",
       "      <td>1178.317641</td>\n",
       "      <td>1.251828e+07</td>\n",
       "      <td>3.198914e+05</td>\n",
       "    </tr>\n",
       "    <tr>\n",
       "      <th>min</th>\n",
       "      <td>4.770000e+02</td>\n",
       "      <td>57.000000</td>\n",
       "      <td>-1.025000e+05</td>\n",
       "      <td>1.480000e+02</td>\n",
       "      <td>4.000000e+05</td>\n",
       "      <td>7.000000e+04</td>\n",
       "      <td>-7.576788e+06</td>\n",
       "      <td>-2.799289e+07</td>\n",
       "      <td>-4.409300e+04</td>\n",
       "      <td>1.480000e+02</td>\n",
       "      <td>0.000000</td>\n",
       "      <td>3.285000e+03</td>\n",
       "      <td>12.000000</td>\n",
       "      <td>2.000000e+00</td>\n",
       "      <td>0.000000</td>\n",
       "      <td>6.922300e+04</td>\n",
       "      <td>2.000000</td>\n",
       "      <td>-2.604490e+06</td>\n",
       "      <td>3.285000e+03</td>\n",
       "    </tr>\n",
       "    <tr>\n",
       "      <th>25%</th>\n",
       "      <td>2.118160e+05</td>\n",
       "      <td>541.250000</td>\n",
       "      <td>8.157300e+04</td>\n",
       "      <td>3.944750e+05</td>\n",
       "      <td>1.600000e+06</td>\n",
       "      <td>4.312500e+05</td>\n",
       "      <td>-3.896218e+05</td>\n",
       "      <td>-6.948620e+05</td>\n",
       "      <td>4.945102e+05</td>\n",
       "      <td>2.261400e+04</td>\n",
       "      <td>10.000000</td>\n",
       "      <td>5.278862e+05</td>\n",
       "      <td>22.750000</td>\n",
       "      <td>1.215000e+03</td>\n",
       "      <td>1.000000</td>\n",
       "      <td>2.812500e+05</td>\n",
       "      <td>249.750000</td>\n",
       "      <td>2.540180e+05</td>\n",
       "      <td>9.878400e+04</td>\n",
       "    </tr>\n",
       "    <tr>\n",
       "      <th>50%</th>\n",
       "      <td>2.599960e+05</td>\n",
       "      <td>1211.000000</td>\n",
       "      <td>2.274490e+05</td>\n",
       "      <td>1.101393e+06</td>\n",
       "      <td>4.176250e+07</td>\n",
       "      <td>7.693750e+05</td>\n",
       "      <td>-1.469750e+05</td>\n",
       "      <td>-1.597920e+05</td>\n",
       "      <td>1.102872e+06</td>\n",
       "      <td>4.695000e+04</td>\n",
       "      <td>35.000000</td>\n",
       "      <td>1.310814e+06</td>\n",
       "      <td>41.000000</td>\n",
       "      <td>5.238200e+04</td>\n",
       "      <td>8.000000</td>\n",
       "      <td>4.420350e+05</td>\n",
       "      <td>740.500000</td>\n",
       "      <td>4.517400e+05</td>\n",
       "      <td>1.085790e+05</td>\n",
       "    </tr>\n",
       "    <tr>\n",
       "      <th>75%</th>\n",
       "      <td>3.121170e+05</td>\n",
       "      <td>2634.750000</td>\n",
       "      <td>1.002672e+06</td>\n",
       "      <td>2.093263e+06</td>\n",
       "      <td>8.212500e+07</td>\n",
       "      <td>1.200000e+06</td>\n",
       "      <td>-7.500975e+04</td>\n",
       "      <td>-3.834600e+04</td>\n",
       "      <td>2.949847e+06</td>\n",
       "      <td>7.995250e+04</td>\n",
       "      <td>72.250000</td>\n",
       "      <td>2.547724e+06</td>\n",
       "      <td>145.500000</td>\n",
       "      <td>3.620960e+05</td>\n",
       "      <td>24.750000</td>\n",
       "      <td>9.386720e+05</td>\n",
       "      <td>1888.250000</td>\n",
       "      <td>1.002370e+06</td>\n",
       "      <td>1.137840e+05</td>\n",
       "    </tr>\n",
       "    <tr>\n",
       "      <th>max</th>\n",
       "      <td>2.670423e+07</td>\n",
       "      <td>15149.000000</td>\n",
       "      <td>3.208340e+07</td>\n",
       "      <td>3.098866e+08</td>\n",
       "      <td>8.392500e+07</td>\n",
       "      <td>9.734362e+07</td>\n",
       "      <td>1.545629e+07</td>\n",
       "      <td>-8.330000e+02</td>\n",
       "      <td>4.345095e+08</td>\n",
       "      <td>5.235198e+06</td>\n",
       "      <td>528.000000</td>\n",
       "      <td>3.117640e+08</td>\n",
       "      <td>14368.000000</td>\n",
       "      <td>4.266759e+07</td>\n",
       "      <td>609.000000</td>\n",
       "      <td>4.852193e+07</td>\n",
       "      <td>5521.000000</td>\n",
       "      <td>1.303223e+08</td>\n",
       "      <td>1.398517e+06</td>\n",
       "    </tr>\n",
       "  </tbody>\n",
       "</table>\n",
       "</div>"
      ],
      "text/plain": [
       "             salary   to_messages  deferral_payments  total_payments  \\\n",
       "count  9.500000e+01     86.000000       3.900000e+01    1.250000e+02   \n",
       "mean   5.621943e+05   2073.860465       1.642674e+06    5.081526e+06   \n",
       "std    2.716369e+06   2582.700981       5.161930e+06    2.906172e+07   \n",
       "min    4.770000e+02     57.000000      -1.025000e+05    1.480000e+02   \n",
       "25%    2.118160e+05    541.250000       8.157300e+04    3.944750e+05   \n",
       "50%    2.599960e+05   1211.000000       2.274490e+05    1.101393e+06   \n",
       "75%    3.121170e+05   2634.750000       1.002672e+06    2.093263e+06   \n",
       "max    2.670423e+07  15149.000000       3.208340e+07    3.098866e+08   \n",
       "\n",
       "       loan_advances         bonus  restricted_stock_deferred  \\\n",
       "count   4.000000e+00  8.200000e+01               1.800000e+01   \n",
       "mean    4.196250e+07  2.374235e+06               1.664106e+05   \n",
       "std     4.708321e+07  1.071333e+07               4.201494e+06   \n",
       "min     4.000000e+05  7.000000e+04              -7.576788e+06   \n",
       "25%     1.600000e+06  4.312500e+05              -3.896218e+05   \n",
       "50%     4.176250e+07  7.693750e+05              -1.469750e+05   \n",
       "75%     8.212500e+07  1.200000e+06              -7.500975e+04   \n",
       "max     8.392500e+07  9.734362e+07               1.545629e+07   \n",
       "\n",
       "       deferred_income  total_stock_value      expenses  \\\n",
       "count     4.900000e+01       1.260000e+02  9.500000e+01   \n",
       "mean     -1.140475e+06       6.773957e+06  1.087289e+05   \n",
       "std       4.025406e+06       3.895777e+07  5.335348e+05   \n",
       "min      -2.799289e+07      -4.409300e+04  1.480000e+02   \n",
       "25%      -6.948620e+05       4.945102e+05  2.261400e+04   \n",
       "50%      -1.597920e+05       1.102872e+06  4.695000e+04   \n",
       "75%      -3.834600e+04       2.949847e+06  7.995250e+04   \n",
       "max      -8.330000e+02       4.345095e+08  5.235198e+06   \n",
       "\n",
       "       from_poi_to_this_person  exercised_stock_options  from_messages  \\\n",
       "count                86.000000             1.020000e+02      86.000000   \n",
       "mean                 64.895349             5.987054e+06     608.790698   \n",
       "std                  86.979244             3.106201e+07    1841.033949   \n",
       "min                   0.000000             3.285000e+03      12.000000   \n",
       "25%                  10.000000             5.278862e+05      22.750000   \n",
       "50%                  35.000000             1.310814e+06      41.000000   \n",
       "75%                  72.250000             2.547724e+06     145.500000   \n",
       "max                 528.000000             3.117640e+08   14368.000000   \n",
       "\n",
       "              other  from_this_person_to_poi  long_term_incentive  \\\n",
       "count  9.300000e+01                86.000000         6.600000e+01   \n",
       "mean   9.190650e+05                41.232558         1.470361e+06   \n",
       "std    4.589253e+06               100.073111         5.942759e+06   \n",
       "min    2.000000e+00                 0.000000         6.922300e+04   \n",
       "25%    1.215000e+03                 1.000000         2.812500e+05   \n",
       "50%    5.238200e+04                 8.000000         4.420350e+05   \n",
       "75%    3.620960e+05                24.750000         9.386720e+05   \n",
       "max    4.266759e+07               609.000000         4.852193e+07   \n",
       "\n",
       "       shared_receipt_with_poi  restricted_stock  director_fees  \n",
       "count                86.000000      1.100000e+02   1.700000e+01  \n",
       "mean               1176.465116      2.321741e+06   1.668049e+05  \n",
       "std                1178.317641      1.251828e+07   3.198914e+05  \n",
       "min                   2.000000     -2.604490e+06   3.285000e+03  \n",
       "25%                 249.750000      2.540180e+05   9.878400e+04  \n",
       "50%                 740.500000      4.517400e+05   1.085790e+05  \n",
       "75%                1888.250000      1.002370e+06   1.137840e+05  \n",
       "max                5521.000000      1.303223e+08   1.398517e+06  "
      ]
     },
     "execution_count": 105,
     "metadata": {},
     "output_type": "execute_result"
    }
   ],
   "source": [
    "import numpy as np\n",
    "data_df = data_df.replace('NaN', np.nan)\n",
    "data_df.describe()"
   ]
  },
  {
   "cell_type": "markdown",
   "metadata": {},
   "source": [
    "All data points have at least one 'NaN' in their features. Also, all features, except 'poi', have at least one 'NaN' through their data points. The lack of value may cause bad effect on the result. As a rule of thumb, I'll use features with at least 100 non-NA values for finalcial data."
   ]
  },
  {
   "cell_type": "code",
   "execution_count": 7,
   "metadata": {},
   "outputs": [
    {
     "data": {
      "text/plain": [
       "salary                        95\n",
       "to_messages                   86\n",
       "deferral_payments             39\n",
       "total_payments               125\n",
       "loan_advances                  4\n",
       "bonus                         82\n",
       "email_address                111\n",
       "restricted_stock_deferred     18\n",
       "deferred_income               49\n",
       "total_stock_value            126\n",
       "expenses                      95\n",
       "from_poi_to_this_person       86\n",
       "exercised_stock_options      102\n",
       "from_messages                 86\n",
       "other                         93\n",
       "from_this_person_to_poi       86\n",
       "poi                          146\n",
       "long_term_incentive           66\n",
       "shared_receipt_with_poi       86\n",
       "restricted_stock             110\n",
       "director_fees                 17\n",
       "dtype: int64"
      ]
     },
     "execution_count": 7,
     "metadata": {},
     "output_type": "execute_result"
    }
   ],
   "source": [
    "data_df.count()"
   ]
  },
  {
   "cell_type": "code",
   "execution_count": 88,
   "metadata": {},
   "outputs": [],
   "source": [
    "financial_features_list = ['total_payments','total_stock_value',\n",
    "                           'exercised_stock_options','restricted_stock']"
   ]
  },
  {
   "cell_type": "markdown",
   "metadata": {},
   "source": [
    "If the data points are insufficient or need another feature, try to add up normalized financial features."
   ]
  },
  {
   "cell_type": "markdown",
   "metadata": {},
   "source": [
    "There are 18 POIs in the dataset. The dataset is skewed, and accuracy may not be the correct metric."
   ]
  },
  {
   "cell_type": "code",
   "execution_count": 11,
   "metadata": {},
   "outputs": [
    {
     "data": {
      "text/plain": [
       "18"
      ]
     },
     "execution_count": 11,
     "metadata": {},
     "output_type": "execute_result"
    }
   ],
   "source": [
    "len(data_df[data_df['poi']==1])"
   ]
  },
  {
   "cell_type": "markdown",
   "metadata": {},
   "source": [
    "### Task 2: Remove outliers"
   ]
  },
  {
   "cell_type": "markdown",
   "metadata": {},
   "source": [
    "The maximum values of financial features are two orders of magnitude greater than most of the other value."
   ]
  },
  {
   "cell_type": "code",
   "execution_count": 101,
   "metadata": {
    "scrolled": true
   },
   "outputs": [
    {
     "data": {
      "text/html": [
       "<div>\n",
       "<style scoped>\n",
       "    .dataframe tbody tr th:only-of-type {\n",
       "        vertical-align: middle;\n",
       "    }\n",
       "\n",
       "    .dataframe tbody tr th {\n",
       "        vertical-align: top;\n",
       "    }\n",
       "\n",
       "    .dataframe thead th {\n",
       "        text-align: right;\n",
       "    }\n",
       "</style>\n",
       "<table border=\"1\" class=\"dataframe\">\n",
       "  <thead>\n",
       "    <tr style=\"text-align: right;\">\n",
       "      <th></th>\n",
       "      <th>total_payments</th>\n",
       "      <th>total_stock_value</th>\n",
       "      <th>exercised_stock_options</th>\n",
       "      <th>restricted_stock</th>\n",
       "    </tr>\n",
       "  </thead>\n",
       "  <tbody>\n",
       "    <tr>\n",
       "      <th>count</th>\n",
       "      <td>1.250000e+02</td>\n",
       "      <td>1.260000e+02</td>\n",
       "      <td>1.020000e+02</td>\n",
       "      <td>1.100000e+02</td>\n",
       "    </tr>\n",
       "    <tr>\n",
       "      <th>mean</th>\n",
       "      <td>5.081526e+06</td>\n",
       "      <td>6.773957e+06</td>\n",
       "      <td>5.987054e+06</td>\n",
       "      <td>2.321741e+06</td>\n",
       "    </tr>\n",
       "    <tr>\n",
       "      <th>std</th>\n",
       "      <td>2.906172e+07</td>\n",
       "      <td>3.895777e+07</td>\n",
       "      <td>3.106201e+07</td>\n",
       "      <td>1.251828e+07</td>\n",
       "    </tr>\n",
       "    <tr>\n",
       "      <th>min</th>\n",
       "      <td>1.480000e+02</td>\n",
       "      <td>-4.409300e+04</td>\n",
       "      <td>3.285000e+03</td>\n",
       "      <td>-2.604490e+06</td>\n",
       "    </tr>\n",
       "    <tr>\n",
       "      <th>25%</th>\n",
       "      <td>3.944750e+05</td>\n",
       "      <td>4.945102e+05</td>\n",
       "      <td>5.278862e+05</td>\n",
       "      <td>2.540180e+05</td>\n",
       "    </tr>\n",
       "    <tr>\n",
       "      <th>50%</th>\n",
       "      <td>1.101393e+06</td>\n",
       "      <td>1.102872e+06</td>\n",
       "      <td>1.310814e+06</td>\n",
       "      <td>4.517400e+05</td>\n",
       "    </tr>\n",
       "    <tr>\n",
       "      <th>75%</th>\n",
       "      <td>2.093263e+06</td>\n",
       "      <td>2.949847e+06</td>\n",
       "      <td>2.547724e+06</td>\n",
       "      <td>1.002370e+06</td>\n",
       "    </tr>\n",
       "    <tr>\n",
       "      <th>max</th>\n",
       "      <td>3.098866e+08</td>\n",
       "      <td>4.345095e+08</td>\n",
       "      <td>3.117640e+08</td>\n",
       "      <td>1.303223e+08</td>\n",
       "    </tr>\n",
       "  </tbody>\n",
       "</table>\n",
       "</div>"
      ],
      "text/plain": [
       "       total_payments  total_stock_value  exercised_stock_options  \\\n",
       "count    1.250000e+02       1.260000e+02             1.020000e+02   \n",
       "mean     5.081526e+06       6.773957e+06             5.987054e+06   \n",
       "std      2.906172e+07       3.895777e+07             3.106201e+07   \n",
       "min      1.480000e+02      -4.409300e+04             3.285000e+03   \n",
       "25%      3.944750e+05       4.945102e+05             5.278862e+05   \n",
       "50%      1.101393e+06       1.102872e+06             1.310814e+06   \n",
       "75%      2.093263e+06       2.949847e+06             2.547724e+06   \n",
       "max      3.098866e+08       4.345095e+08             3.117640e+08   \n",
       "\n",
       "       restricted_stock  \n",
       "count      1.100000e+02  \n",
       "mean       2.321741e+06  \n",
       "std        1.251828e+07  \n",
       "min       -2.604490e+06  \n",
       "25%        2.540180e+05  \n",
       "50%        4.517400e+05  \n",
       "75%        1.002370e+06  \n",
       "max        1.303223e+08  "
      ]
     },
     "execution_count": 101,
     "metadata": {},
     "output_type": "execute_result"
    }
   ],
   "source": [
    "data_df[financial_features_list].describe()"
   ]
  },
  {
   "cell_type": "code",
   "execution_count": 14,
   "metadata": {
    "scrolled": false
   },
   "outputs": [
    {
     "data": {
      "text/plain": [
       "<matplotlib.axes._subplots.AxesSubplot at 0x11d24e1d0>"
      ]
     },
     "execution_count": 14,
     "metadata": {},
     "output_type": "execute_result"
    },
    {
     "data": {
      "image/png": "[encoded data removed]",
      "text/plain": [
       "<Figure size 432x288 with 1 Axes>"
      ]
     },
     "metadata": {},
     "output_type": "display_data"
    }
   ],
   "source": [
    "data_df.plot.scatter(x='total_payments', y='total_stock_value')"
   ]
  },
  {
   "cell_type": "markdown",
   "metadata": {},
   "source": [
    "The data point turns out 'TOTAL,' so that should be removed."
   ]
  },
  {
   "cell_type": "code",
   "execution_count": 15,
   "metadata": {
    "scrolled": false
   },
   "outputs": [
    {
     "data": {
      "text/html": [
       "<div>\n",
       "<style scoped>\n",
       "    .dataframe tbody tr th:only-of-type {\n",
       "        vertical-align: middle;\n",
       "    }\n",
       "\n",
       "    .dataframe tbody tr th {\n",
       "        vertical-align: top;\n",
       "    }\n",
       "\n",
       "    .dataframe thead th {\n",
       "        text-align: right;\n",
       "    }\n",
       "</style>\n",
       "<table border=\"1\" class=\"dataframe\">\n",
       "  <thead>\n",
       "    <tr style=\"text-align: right;\">\n",
       "      <th></th>\n",
       "      <th>salary</th>\n",
       "      <th>to_messages</th>\n",
       "      <th>deferral_payments</th>\n",
       "      <th>total_payments</th>\n",
       "      <th>loan_advances</th>\n",
       "      <th>bonus</th>\n",
       "      <th>email_address</th>\n",
       "      <th>restricted_stock_deferred</th>\n",
       "      <th>deferred_income</th>\n",
       "      <th>total_stock_value</th>\n",
       "      <th>...</th>\n",
       "      <th>from_poi_to_this_person</th>\n",
       "      <th>exercised_stock_options</th>\n",
       "      <th>from_messages</th>\n",
       "      <th>other</th>\n",
       "      <th>from_this_person_to_poi</th>\n",
       "      <th>poi</th>\n",
       "      <th>long_term_incentive</th>\n",
       "      <th>shared_receipt_with_poi</th>\n",
       "      <th>restricted_stock</th>\n",
       "      <th>director_fees</th>\n",
       "    </tr>\n",
       "  </thead>\n",
       "  <tbody>\n",
       "    <tr>\n",
       "      <th>LAY KENNETH L</th>\n",
       "      <td>1072321.0</td>\n",
       "      <td>4273.0</td>\n",
       "      <td>202911.0</td>\n",
       "      <td>103559793.0</td>\n",
       "      <td>81525000.0</td>\n",
       "      <td>7000000.0</td>\n",
       "      <td>kenneth.lay@enron.com</td>\n",
       "      <td>NaN</td>\n",
       "      <td>-300000.0</td>\n",
       "      <td>49110078.0</td>\n",
       "      <td>...</td>\n",
       "      <td>123.0</td>\n",
       "      <td>34348384.0</td>\n",
       "      <td>36.0</td>\n",
       "      <td>10359729.0</td>\n",
       "      <td>16.0</td>\n",
       "      <td>True</td>\n",
       "      <td>3600000.0</td>\n",
       "      <td>2411.0</td>\n",
       "      <td>14761694.0</td>\n",
       "      <td>NaN</td>\n",
       "    </tr>\n",
       "    <tr>\n",
       "      <th>TOTAL</th>\n",
       "      <td>26704229.0</td>\n",
       "      <td>NaN</td>\n",
       "      <td>32083396.0</td>\n",
       "      <td>309886585.0</td>\n",
       "      <td>83925000.0</td>\n",
       "      <td>97343619.0</td>\n",
       "      <td>NaN</td>\n",
       "      <td>-7576788.0</td>\n",
       "      <td>-27992891.0</td>\n",
       "      <td>434509511.0</td>\n",
       "      <td>...</td>\n",
       "      <td>NaN</td>\n",
       "      <td>311764000.0</td>\n",
       "      <td>NaN</td>\n",
       "      <td>42667589.0</td>\n",
       "      <td>NaN</td>\n",
       "      <td>False</td>\n",
       "      <td>48521928.0</td>\n",
       "      <td>NaN</td>\n",
       "      <td>130322299.0</td>\n",
       "      <td>1398517.0</td>\n",
       "    </tr>\n",
       "  </tbody>\n",
       "</table>\n",
       "<p>2 rows × 21 columns</p>\n",
       "</div>"
      ],
      "text/plain": [
       "                   salary  to_messages  deferral_payments  total_payments  \\\n",
       "LAY KENNETH L   1072321.0       4273.0           202911.0     103559793.0   \n",
       "TOTAL          26704229.0          NaN         32083396.0     309886585.0   \n",
       "\n",
       "               loan_advances       bonus          email_address  \\\n",
       "LAY KENNETH L     81525000.0   7000000.0  kenneth.lay@enron.com   \n",
       "TOTAL             83925000.0  97343619.0                    NaN   \n",
       "\n",
       "               restricted_stock_deferred  deferred_income  total_stock_value  \\\n",
       "LAY KENNETH L                        NaN        -300000.0         49110078.0   \n",
       "TOTAL                         -7576788.0      -27992891.0        434509511.0   \n",
       "\n",
       "                   ...        from_poi_to_this_person  \\\n",
       "LAY KENNETH L      ...                          123.0   \n",
       "TOTAL              ...                            NaN   \n",
       "\n",
       "               exercised_stock_options  from_messages       other  \\\n",
       "LAY KENNETH L               34348384.0           36.0  10359729.0   \n",
       "TOTAL                      311764000.0            NaN  42667589.0   \n",
       "\n",
       "               from_this_person_to_poi    poi  long_term_incentive  \\\n",
       "LAY KENNETH L                     16.0   True            3600000.0   \n",
       "TOTAL                              NaN  False           48521928.0   \n",
       "\n",
       "               shared_receipt_with_poi  restricted_stock  director_fees  \n",
       "LAY KENNETH L                   2411.0        14761694.0            NaN  \n",
       "TOTAL                              NaN       130322299.0      1398517.0  \n",
       "\n",
       "[2 rows x 21 columns]"
      ]
     },
     "execution_count": 15,
     "metadata": {},
     "output_type": "execute_result"
    }
   ],
   "source": [
    "data_df[data_df['total_payments'] > 1e8]"
   ]
  },
  {
   "cell_type": "code",
   "execution_count": 106,
   "metadata": {},
   "outputs": [],
   "source": [
    "data_df = data_df.drop('TOTAL')"
   ]
  },
  {
   "cell_type": "markdown",
   "metadata": {},
   "source": [
    "### Task 3: Create new feature(s)"
   ]
  },
  {
   "cell_type": "markdown",
   "metadata": {},
   "source": [
    "Though the higher value of 'from_poi_to_this_person' and 'from_this_person_to_poi' indicates the data point is POI, it may be originated from the fact that he/she treated many emails. So the message ratio related to the POI, rather than the absolute number of the message, will be a more adequate feature."
   ]
  },
  {
   "cell_type": "code",
   "execution_count": 113,
   "metadata": {},
   "outputs": [
    {
     "data": {
      "text/plain": [
       "<matplotlib.axes._subplots.AxesSubplot at 0x11f2dc080>"
      ]
     },
     "execution_count": 113,
     "metadata": {},
     "output_type": "execute_result"
    },
    {
     "data": {
      "image/png": "[encoded data removed]",
      "text/plain": [
       "<Figure size 432x288 with 2 Axes>"
      ]
     },
     "metadata": {},
     "output_type": "display_data"
    }
   ],
   "source": [
    "data_df['fraction_from_poi'] = (data_df['from_poi_to_this_person']) / data_df['to_messages']\n",
    "data_df['fraction_to_poi'] = data_df['from_this_person_to_poi'] / data_df['from_messages']\n",
    "data_df.plot.scatter(x='fraction_from_poi', y='fraction_to_poi',\n",
    "                     c=data_df['poi'].replace(True,1).replace(False,0),\n",
    "                     colormap='viridis')"
   ]
  },
  {
   "cell_type": "code",
   "execution_count": 109,
   "metadata": {},
   "outputs": [],
   "source": [
    "### Store to my_dataset for easy export below.\n",
    "my_dataset = data_df.replace(np.nan, 'NaN').to_dict('index')\n",
    "\n",
    "features_list = ['poi', 'salary', 'total_payments', 'total_stock_value', 'exercised_stock_options', \n",
    "                 'restricted_stock', 'fraction_from_poi', 'fraction_to_poi']\n",
    "\n",
    "### Extract features and labels from dataset for local testing\n",
    "data = featureFormat(my_dataset, features_list, sort_keys = True)\n",
    "labels, features = targetFeatureSplit(data)"
   ]
  },
  {
   "cell_type": "markdown",
   "metadata": {},
   "source": [
    "### Task 4: Try a varity of classifiers"
   ]
  },
  {
   "cell_type": "markdown",
   "metadata": {},
   "source": [
    "Because the data points are small and skewed, it is better to use [Stratified ShuffleSplit cross-validator](http://scikit-learn.org/stable/modules/generated/sklearn.model_selection.StratifiedShuffleSplit.html) which returns stratified randomized folds with the percentage of samples for each class."
   ]
  },
  {
   "cell_type": "code",
   "execution_count": 22,
   "metadata": {},
   "outputs": [],
   "source": [
    "from sklearn.model_selection import StratifiedShuffleSplit\n",
    "\n",
    "cv = StratifiedShuffleSplit(n_splits = 1000, random_state = 42)\n",
    "for train_idx, test_idx in cv.split(features, labels):\n",
    "    features_train = []\n",
    "    features_test  = []\n",
    "    labels_train   = []\n",
    "    labels_test    = []\n",
    "    for ii in train_idx:\n",
    "        features_train.append(features[ii])\n",
    "        labels_train.append(labels[ii])\n",
    "    for jj in test_idx:\n",
    "        features_test.append(features[jj])\n",
    "        labels_test.append(labels[jj])"
   ]
  },
  {
   "cell_type": "markdown",
   "metadata": {},
   "source": [
    "I'll try the tree supervised classifiers. They are [Gaussian Naive Bayes](http://scikit-learn.org/stable/modules/generated/sklearn.naive_bayes.GaussianNB.html), [C-Support Vector Classification](http://scikit-learn.org/stable/modules/generated/sklearn.svm.SVC.html), and [decision tree classifier](http://scikit-learn.org/stable/modules/generated/sklearn.tree.DecisionTreeClassifier.html). The first trial of [C-Support Vector Classification](http://scikit-learn.org/stable/modules/generated/sklearn.svm.SVC.html) with default parameters produces zero score for precision and accuracy. However, it may be possible to get a better result by tuning the parameters."
   ]
  },
  {
   "cell_type": "code",
   "execution_count": 115,
   "metadata": {},
   "outputs": [
    {
     "name": "stdout",
     "output_type": "stream",
     "text": [
      "accuracy: 0.8\n",
      "precision: 0.3333333333333333\n",
      "recall: 0.5\n",
      "f1: 0.4\n"
     ]
    }
   ],
   "source": [
    "from sklearn.preprocessing import MinMaxScaler\n",
    "from sklearn.decomposition import PCA\n",
    "from sklearn.svm import SVC\n",
    "from sklearn.naive_bayes import GaussianNB\n",
    "from sklearn.pipeline import Pipeline, make_pipeline\n",
    "from sklearn.metrics import precision_score, recall_score, f1_score\n",
    "from tempfile import mkdtemp\n",
    "from shutil import rmtree\n",
    "\n",
    "cachedir = mkdtemp()\n",
    "pipe = make_pipeline(MinMaxScaler(), PCA(n_components=5), GaussianNB(), memory=cachedir)\n",
    "pipe.fit(features_train, labels_train)\n",
    "labels_pred = pipe.predict(features_test)\n",
    "print(\"accuracy:\", pipe.score(features_test, labels_test))\n",
    "print(\"precision:\", precision_score(labels_test, labels_pred))\n",
    "print(\"recall:\", recall_score(labels_test, labels_pred))\n",
    "print(\"f1:\", f1_score(labels_test, labels_pred))\n",
    "rmtree(cachedir)"
   ]
  },
  {
   "cell_type": "code",
   "execution_count": 90,
   "metadata": {
    "scrolled": true
   },
   "outputs": [
    {
     "name": "stdout",
     "output_type": "stream",
     "text": [
      "accuracy: 0.8666666666666667\n",
      "precision: 0.0\n",
      "recall: 0.0\n",
      "f1: 0.0\n"
     ]
    },
    {
     "name": "stderr",
     "output_type": "stream",
     "text": [
      "/anaconda3/lib/python3.6/site-packages/sklearn/metrics/classification.py:1135: UndefinedMetricWarning: Precision is ill-defined and being set to 0.0 due to no predicted samples.\n",
      "  'precision', 'predicted', average, warn_for)\n",
      "/anaconda3/lib/python3.6/site-packages/sklearn/metrics/classification.py:1135: UndefinedMetricWarning: F-score is ill-defined and being set to 0.0 due to no predicted samples.\n",
      "  'precision', 'predicted', average, warn_for)\n"
     ]
    }
   ],
   "source": [
    "from sklearn.preprocessing import MinMaxScaler\n",
    "from sklearn.decomposition import PCA\n",
    "from sklearn.svm import SVC\n",
    "from sklearn.naive_bayes import GaussianNB\n",
    "from sklearn.tree import DecisionTreeClassifier\n",
    "from sklearn.pipeline import Pipeline, make_pipeline\n",
    "from sklearn.metrics import precision_score, recall_score, f1_score\n",
    "from tempfile import mkdtemp\n",
    "from shutil import rmtree\n",
    "\n",
    "cachedir = mkdtemp()\n",
    "pipe = make_pipeline(SVC(), memory=cachedir)\n",
    "pipe.fit(features_train, labels_train)\n",
    "labels_pred = pipe.predict(features_test)\n",
    "print(\"accuracy:\", pipe.score(features_test, labels_test))\n",
    "print(\"precision:\", precision_score(labels_test, labels_pred))\n",
    "print(\"recall:\", recall_score(labels_test, labels_pred))\n",
    "print(\"f1:\", f1_score(labels_test, labels_pred))\n",
    "rmtree(cachedir)"
   ]
  },
  {
   "cell_type": "code",
   "execution_count": 91,
   "metadata": {},
   "outputs": [
    {
     "name": "stdout",
     "output_type": "stream",
     "text": [
      "accuracy: 0.8666666666666667\n",
      "precision: 0.5\n",
      "recall: 0.5\n",
      "f1: 0.5\n"
     ]
    }
   ],
   "source": [
    "from sklearn.preprocessing import MinMaxScaler\n",
    "from sklearn.decomposition import PCA\n",
    "from sklearn.svm import SVC\n",
    "from sklearn.naive_bayes import GaussianNB\n",
    "from sklearn.tree import DecisionTreeClassifier\n",
    "from sklearn.pipeline import Pipeline, make_pipeline\n",
    "from sklearn.metrics import precision_score, recall_score, f1_score\n",
    "from tempfile import mkdtemp\n",
    "from shutil import rmtree\n",
    "\n",
    "cachedir = mkdtemp()\n",
    "pipe = make_pipeline(DecisionTreeClassifier(), memory=cachedir)\n",
    "pipe.fit(features_train, labels_train)\n",
    "labels_pred = pipe.predict(features_test)\n",
    "print(\"accuracy:\", pipe.score(features_test, labels_test))\n",
    "print(\"precision:\", precision_score(labels_test, labels_pred))\n",
    "print(\"recall:\", recall_score(labels_test, labels_pred))\n",
    "print(\"f1:\", f1_score(labels_test, labels_pred))\n",
    "rmtree(cachedir)"
   ]
  },
  {
   "cell_type": "code",
   "execution_count": 24,
   "metadata": {},
   "outputs": [
    {
     "name": "stdout",
     "output_type": "stream",
     "text": [
      "accuracy: 0.8666666666666667\n",
      "precision: 0.0\n",
      "recall: 0.0\n",
      "f1: 0.0\n"
     ]
    },
    {
     "name": "stderr",
     "output_type": "stream",
     "text": [
      "/anaconda3/lib/python3.6/site-packages/sklearn/metrics/classification.py:1135: UndefinedMetricWarning: Precision is ill-defined and being set to 0.0 due to no predicted samples.\n",
      "  'precision', 'predicted', average, warn_for)\n",
      "/anaconda3/lib/python3.6/site-packages/sklearn/metrics/classification.py:1135: UndefinedMetricWarning: F-score is ill-defined and being set to 0.0 due to no predicted samples.\n",
      "  'precision', 'predicted', average, warn_for)\n"
     ]
    }
   ],
   "source": [
    "from sklearn.preprocessing import MinMaxScaler\n",
    "from sklearn.decomposition import PCA\n",
    "from sklearn.svm import SVC\n",
    "from sklearn.neighbors import KNeighborsClassifier\n",
    "from sklearn.pipeline import Pipeline, make_pipeline\n",
    "from sklearn.metrics import precision_score, recall_score, f1_score\n",
    "from tempfile import mkdtemp\n",
    "from shutil import rmtree\n",
    "\n",
    "cachedir = mkdtemp()\n",
    "pipe = make_pipeline(MinMaxScaler(), PCA(n_components=7), KNeighborsClassifier(), memory=cachedir)\n",
    "pipe.fit(features_train, labels_train)\n",
    "labels_pred = pipe.predict(features_test)\n",
    "print(\"accuracy:\", pipe.score(features_test, labels_test))\n",
    "print(\"precision:\", precision_score(labels_test, labels_pred))\n",
    "print(\"recall:\", recall_score(labels_test, labels_pred))\n",
    "print(\"f1:\", f1_score(labels_test, labels_pred))\n",
    "rmtree(cachedir)"
   ]
  },
  {
   "cell_type": "code",
   "execution_count": 33,
   "metadata": {},
   "outputs": [
    {
     "name": "stdout",
     "output_type": "stream",
     "text": [
      "accuracy: 0.9333333333333333\n",
      "precision: 1.0\n",
      "recall: 0.5\n",
      "f1: 0.6666666666666666\n"
     ]
    }
   ],
   "source": [
    "from sklearn.preprocessing import MinMaxScaler\n",
    "from sklearn.decomposition import PCA\n",
    "from sklearn.svm import SVC\n",
    "from sklearn.ensemble import AdaBoostClassifier\n",
    "from sklearn.pipeline import Pipeline, make_pipeline\n",
    "from sklearn.metrics import precision_score, recall_score, f1_score\n",
    "from tempfile import mkdtemp\n",
    "from shutil import rmtree\n",
    "\n",
    "cachedir = mkdtemp()\n",
    "pipe = make_pipeline(MinMaxScaler(), PCA(n_components=7), AdaBoostClassifier(), memory=cachedir)\n",
    "pipe.fit(features_train, labels_train)\n",
    "labels_pred = pipe.predict(features_test)\n",
    "print(\"accuracy:\", pipe.score(features_test, labels_test))\n",
    "print(\"precision:\", precision_score(labels_test, labels_pred))\n",
    "print(\"recall:\", recall_score(labels_test, labels_pred))\n",
    "print(\"f1:\", f1_score(labels_test, labels_pred))\n",
    "rmtree(cachedir)"
   ]
  },
  {
   "cell_type": "code",
   "execution_count": 28,
   "metadata": {},
   "outputs": [
    {
     "name": "stdout",
     "output_type": "stream",
     "text": [
      "accuracy: 0.8666666666666667\n",
      "precision: 0.0\n",
      "recall: 0.0\n",
      "f1: 0.0\n"
     ]
    },
    {
     "name": "stderr",
     "output_type": "stream",
     "text": [
      "/anaconda3/lib/python3.6/site-packages/sklearn/metrics/classification.py:1135: UndefinedMetricWarning: Precision is ill-defined and being set to 0.0 due to no predicted samples.\n",
      "  'precision', 'predicted', average, warn_for)\n",
      "/anaconda3/lib/python3.6/site-packages/sklearn/metrics/classification.py:1135: UndefinedMetricWarning: F-score is ill-defined and being set to 0.0 due to no predicted samples.\n",
      "  'precision', 'predicted', average, warn_for)\n"
     ]
    }
   ],
   "source": [
    "from sklearn.preprocessing import MinMaxScaler\n",
    "from sklearn.decomposition import PCA\n",
    "from sklearn.svm import SVC\n",
    "from sklearn.ensemble import RandomForestClassifier\n",
    "from sklearn.pipeline import Pipeline, make_pipeline\n",
    "from sklearn.metrics import precision_score, recall_score, f1_score\n",
    "from tempfile import mkdtemp\n",
    "from shutil import rmtree\n",
    "\n",
    "cachedir = mkdtemp()\n",
    "pipe = make_pipeline(MinMaxScaler(), PCA(n_components=7), RandomForestClassifier(), memory=cachedir)\n",
    "pipe.fit(features_train, labels_train)\n",
    "labels_pred = pipe.predict(features_test)\n",
    "print(\"accuracy:\", pipe.score(features_test, labels_test))\n",
    "print(\"precision:\", precision_score(labels_test, labels_pred))\n",
    "print(\"recall:\", recall_score(labels_test, labels_pred))\n",
    "print(\"f1:\", f1_score(labels_test, labels_pred))\n",
    "rmtree(cachedir)"
   ]
  },
  {
   "cell_type": "markdown",
   "metadata": {},
   "source": [
    "### Task 5: Tune your classifier"
   ]
  },
  {
   "cell_type": "markdown",
   "metadata": {},
   "source": [
    "[GaussianNB](http://scikit-learn.org/stable/modules/generated/sklearn.naive_bayes.GaussianNB.html#sklearn.naive_bayes.GaussianNB) does not have any parameter to adjust. However, we can enhance the result by normalization. Also, reducing the dimension helps to prevent overfitting of the classifier. "
   ]
  },
  {
   "cell_type": "code",
   "execution_count": 117,
   "metadata": {},
   "outputs": [
    {
     "name": "stdout",
     "output_type": "stream",
     "text": [
      "# Tuning hyper-parameters for precision\n",
      "\n",
      "Best parameters set found on development set:\n",
      "\n",
      "{'pca__n_components': 5}\n",
      "\n",
      "Grid scores on development set:\n",
      "\n",
      "0.672 (+/-0.490) for {'pca__n_components': 2}\n",
      "0.670 (+/-0.492) for {'pca__n_components': 3}\n",
      "0.621 (+/-0.398) for {'pca__n_components': 4}\n",
      "0.679 (+/-0.484) for {'pca__n_components': 5}\n",
      "0.625 (+/-0.397) for {'pca__n_components': 6}\n",
      "0.628 (+/-0.291) for {'pca__n_components': 7}\n",
      "\n",
      "Detailed classification report:\n",
      "\n",
      "The model is trained on the full development set.\n",
      "The scores are computed on the full evaluation set.\n",
      "\n",
      "             precision    recall  f1-score   support\n",
      "\n",
      "        0.0       0.92      0.85      0.88        13\n",
      "        1.0       0.33      0.50      0.40         2\n",
      "\n",
      "avg / total       0.84      0.80      0.82        15\n",
      "\n",
      "\n",
      "# Tuning hyper-parameters for recall\n",
      "\n",
      "Best parameters set found on development set:\n",
      "\n",
      "{'pca__n_components': 7}\n",
      "\n",
      "Grid scores on development set:\n",
      "\n",
      "0.584 (+/-0.227) for {'pca__n_components': 2}\n",
      "0.575 (+/-0.246) for {'pca__n_components': 3}\n",
      "0.570 (+/-0.221) for {'pca__n_components': 4}\n",
      "0.579 (+/-0.255) for {'pca__n_components': 5}\n",
      "0.566 (+/-0.243) for {'pca__n_components': 6}\n",
      "0.625 (+/-0.275) for {'pca__n_components': 7}\n",
      "\n",
      "Detailed classification report:\n",
      "\n",
      "The model is trained on the full development set.\n",
      "The scores are computed on the full evaluation set.\n",
      "\n",
      "             precision    recall  f1-score   support\n",
      "\n",
      "        0.0       0.92      0.92      0.92        13\n",
      "        1.0       0.50      0.50      0.50         2\n",
      "\n",
      "avg / total       0.87      0.87      0.87        15\n",
      "\n",
      "\n"
     ]
    }
   ],
   "source": [
    "from sklearn.preprocessing import MinMaxScaler\n",
    "from sklearn.decomposition import PCA\n",
    "from sklearn.naive_bayes import GaussianNB\n",
    "from sklearn.pipeline import make_pipeline\n",
    "from sklearn.model_selection import GridSearchCV\n",
    "from sklearn.metrics import classification_report\n",
    "from tempfile import mkdtemp\n",
    "from shutil import rmtree\n",
    "\n",
    "cachedir = mkdtemp()\n",
    "pipe = make_pipeline(MinMaxScaler(), PCA(), GaussianNB(), memory=cachedir)\n",
    "tuned_parameters = [{'pca__n_components': [2, 3, 4, 5, 6, 7]}]\n",
    "scores = ['precision', 'recall']\n",
    "\n",
    "for score in scores:\n",
    "    print(\"# Tuning hyper-parameters for %s\" % score)\n",
    "    print()\n",
    "\n",
    "    clf = GridSearchCV(pipe, tuned_parameters, cv=5,\n",
    "                       scoring='%s_macro' % score)\n",
    "    clf.fit(features_train, labels_train)\n",
    "\n",
    "    print(\"Best parameters set found on development set:\")\n",
    "    print()\n",
    "    print(clf.best_params_)\n",
    "    print()\n",
    "    print(\"Grid scores on development set:\")\n",
    "    print()\n",
    "    means = clf.cv_results_['mean_test_score']\n",
    "    stds = clf.cv_results_['std_test_score']\n",
    "    for mean, std, params in zip(means, stds, clf.cv_results_['params']):\n",
    "        print(\"%0.3f (+/-%0.03f) for %r\"\n",
    "              % (mean, std * 2, params))\n",
    "    print()\n",
    "\n",
    "    print(\"Detailed classification report:\")\n",
    "    print()\n",
    "    print(\"The model is trained on the full development set.\")\n",
    "    print(\"The scores are computed on the full evaluation set.\")\n",
    "    print()\n",
    "    labels_true, labels_pred = labels_test, clf.predict(features_test)\n",
    "    print(classification_report(labels_true, labels_pred))\n",
    "    print()\n",
    "    \n",
    "rmtree(cachedir)"
   ]
  },
  {
   "cell_type": "markdown",
   "metadata": {},
   "source": [
    "The minimum sampling limit helps to prevent overfitting of the decision tree."
   ]
  },
  {
   "cell_type": "code",
   "execution_count": 116,
   "metadata": {
    "scrolled": false
   },
   "outputs": [
    {
     "name": "stdout",
     "output_type": "stream",
     "text": [
      "# Tuning hyper-parameters for precision\n",
      "\n"
     ]
    },
    {
     "name": "stderr",
     "output_type": "stream",
     "text": [
      "/anaconda3/lib/python3.6/site-packages/sklearn/metrics/classification.py:1135: UndefinedMetricWarning: Precision is ill-defined and being set to 0.0 in labels with no predicted samples.\n",
      "  'precision', 'predicted', average, warn_for)\n",
      "/anaconda3/lib/python3.6/site-packages/sklearn/metrics/classification.py:1135: UndefinedMetricWarning: Precision is ill-defined and being set to 0.0 in labels with no predicted samples.\n",
      "  'precision', 'predicted', average, warn_for)\n",
      "/anaconda3/lib/python3.6/site-packages/sklearn/metrics/classification.py:1135: UndefinedMetricWarning: Precision is ill-defined and being set to 0.0 in labels with no predicted samples.\n",
      "  'precision', 'predicted', average, warn_for)\n",
      "/anaconda3/lib/python3.6/site-packages/sklearn/metrics/classification.py:1135: UndefinedMetricWarning: Precision is ill-defined and being set to 0.0 in labels with no predicted samples.\n",
      "  'precision', 'predicted', average, warn_for)\n",
      "/anaconda3/lib/python3.6/site-packages/sklearn/metrics/classification.py:1135: UndefinedMetricWarning: Precision is ill-defined and being set to 0.0 in labels with no predicted samples.\n",
      "  'precision', 'predicted', average, warn_for)\n",
      "/anaconda3/lib/python3.6/site-packages/sklearn/metrics/classification.py:1135: UndefinedMetricWarning: Precision is ill-defined and being set to 0.0 in labels with no predicted samples.\n",
      "  'precision', 'predicted', average, warn_for)\n",
      "/anaconda3/lib/python3.6/site-packages/sklearn/metrics/classification.py:1135: UndefinedMetricWarning: Precision is ill-defined and being set to 0.0 in labels with no predicted samples.\n",
      "  'precision', 'predicted', average, warn_for)\n",
      "/anaconda3/lib/python3.6/site-packages/sklearn/metrics/classification.py:1135: UndefinedMetricWarning: Precision is ill-defined and being set to 0.0 in labels with no predicted samples.\n",
      "  'precision', 'predicted', average, warn_for)\n",
      "/anaconda3/lib/python3.6/site-packages/sklearn/metrics/classification.py:1135: UndefinedMetricWarning: Precision is ill-defined and being set to 0.0 in labels with no predicted samples.\n",
      "  'precision', 'predicted', average, warn_for)\n",
      "/anaconda3/lib/python3.6/site-packages/sklearn/metrics/classification.py:1135: UndefinedMetricWarning: Precision is ill-defined and being set to 0.0 in labels with no predicted samples.\n",
      "  'precision', 'predicted', average, warn_for)\n",
      "/anaconda3/lib/python3.6/site-packages/sklearn/metrics/classification.py:1135: UndefinedMetricWarning: Precision is ill-defined and being set to 0.0 in labels with no predicted samples.\n",
      "  'precision', 'predicted', average, warn_for)\n",
      "/anaconda3/lib/python3.6/site-packages/sklearn/metrics/classification.py:1135: UndefinedMetricWarning: Precision is ill-defined and being set to 0.0 in labels with no predicted samples.\n",
      "  'precision', 'predicted', average, warn_for)\n",
      "/anaconda3/lib/python3.6/site-packages/sklearn/metrics/classification.py:1135: UndefinedMetricWarning: Precision is ill-defined and being set to 0.0 in labels with no predicted samples.\n",
      "  'precision', 'predicted', average, warn_for)\n",
      "/anaconda3/lib/python3.6/site-packages/sklearn/metrics/classification.py:1135: UndefinedMetricWarning: Precision is ill-defined and being set to 0.0 in labels with no predicted samples.\n",
      "  'precision', 'predicted', average, warn_for)\n",
      "/anaconda3/lib/python3.6/site-packages/sklearn/metrics/classification.py:1135: UndefinedMetricWarning: Precision is ill-defined and being set to 0.0 in labels with no predicted samples.\n",
      "  'precision', 'predicted', average, warn_for)\n",
      "/anaconda3/lib/python3.6/site-packages/sklearn/metrics/classification.py:1135: UndefinedMetricWarning: Precision is ill-defined and being set to 0.0 in labels with no predicted samples.\n",
      "  'precision', 'predicted', average, warn_for)\n",
      "/anaconda3/lib/python3.6/site-packages/sklearn/metrics/classification.py:1135: UndefinedMetricWarning: Precision is ill-defined and being set to 0.0 in labels with no predicted samples.\n",
      "  'precision', 'predicted', average, warn_for)\n"
     ]
    },
    {
     "name": "stdout",
     "output_type": "stream",
     "text": [
      "Best parameters set found on development set:\n",
      "\n",
      "{'decisiontreeclassifier__min_samples_split': 6, 'pca__n_components': 7}\n",
      "\n",
      "Grid scores on development set:\n",
      "\n",
      "0.495 (+/-0.176) for {'decisiontreeclassifier__min_samples_split': 2, 'pca__n_components': 2}\n",
      "0.533 (+/-0.210) for {'decisiontreeclassifier__min_samples_split': 2, 'pca__n_components': 3}\n",
      "0.478 (+/-0.120) for {'decisiontreeclassifier__min_samples_split': 2, 'pca__n_components': 4}\n",
      "0.545 (+/-0.212) for {'decisiontreeclassifier__min_samples_split': 2, 'pca__n_components': 5}\n",
      "0.607 (+/-0.337) for {'decisiontreeclassifier__min_samples_split': 2, 'pca__n_components': 7}\n",
      "0.524 (+/-0.165) for {'decisiontreeclassifier__min_samples_split': 4, 'pca__n_components': 2}\n",
      "0.550 (+/-0.214) for {'decisiontreeclassifier__min_samples_split': 4, 'pca__n_components': 3}\n",
      "0.522 (+/-0.145) for {'decisiontreeclassifier__min_samples_split': 4, 'pca__n_components': 4}\n",
      "0.559 (+/-0.210) for {'decisiontreeclassifier__min_samples_split': 4, 'pca__n_components': 5}\n",
      "0.597 (+/-0.290) for {'decisiontreeclassifier__min_samples_split': 4, 'pca__n_components': 7}\n",
      "0.527 (+/-0.164) for {'decisiontreeclassifier__min_samples_split': 6, 'pca__n_components': 2}\n",
      "0.547 (+/-0.223) for {'decisiontreeclassifier__min_samples_split': 6, 'pca__n_components': 3}\n",
      "0.549 (+/-0.204) for {'decisiontreeclassifier__min_samples_split': 6, 'pca__n_components': 4}\n",
      "0.566 (+/-0.221) for {'decisiontreeclassifier__min_samples_split': 6, 'pca__n_components': 5}\n",
      "0.635 (+/-0.249) for {'decisiontreeclassifier__min_samples_split': 6, 'pca__n_components': 7}\n",
      "0.527 (+/-0.164) for {'decisiontreeclassifier__min_samples_split': 8, 'pca__n_components': 2}\n",
      "0.533 (+/-0.210) for {'decisiontreeclassifier__min_samples_split': 8, 'pca__n_components': 3}\n",
      "0.548 (+/-0.218) for {'decisiontreeclassifier__min_samples_split': 8, 'pca__n_components': 4}\n",
      "0.549 (+/-0.216) for {'decisiontreeclassifier__min_samples_split': 8, 'pca__n_components': 5}\n",
      "0.629 (+/-0.302) for {'decisiontreeclassifier__min_samples_split': 8, 'pca__n_components': 7}\n",
      "0.531 (+/-0.163) for {'decisiontreeclassifier__min_samples_split': 10, 'pca__n_components': 2}\n",
      "0.533 (+/-0.210) for {'decisiontreeclassifier__min_samples_split': 10, 'pca__n_components': 3}\n",
      "0.549 (+/-0.217) for {'decisiontreeclassifier__min_samples_split': 10, 'pca__n_components': 4}\n",
      "0.558 (+/-0.223) for {'decisiontreeclassifier__min_samples_split': 10, 'pca__n_components': 5}\n",
      "0.573 (+/-0.316) for {'decisiontreeclassifier__min_samples_split': 10, 'pca__n_components': 7}\n",
      "\n",
      "Detailed classification report:\n",
      "\n",
      "The model is trained on the full development set.\n",
      "The scores are computed on the full evaluation set.\n",
      "\n",
      "             precision    recall  f1-score   support\n",
      "\n",
      "        0.0       0.92      0.92      0.92        13\n",
      "        1.0       0.50      0.50      0.50         2\n",
      "\n",
      "avg / total       0.87      0.87      0.87        15\n",
      "\n",
      "\n",
      "# Tuning hyper-parameters for recall\n",
      "\n",
      "Best parameters set found on development set:\n",
      "\n",
      "{'decisiontreeclassifier__min_samples_split': 8, 'pca__n_components': 7}\n",
      "\n",
      "Grid scores on development set:\n",
      "\n",
      "0.512 (+/-0.198) for {'decisiontreeclassifier__min_samples_split': 2, 'pca__n_components': 2}\n",
      "0.567 (+/-0.232) for {'decisiontreeclassifier__min_samples_split': 2, 'pca__n_components': 3}\n",
      "0.508 (+/-0.135) for {'decisiontreeclassifier__min_samples_split': 2, 'pca__n_components': 4}\n",
      "0.548 (+/-0.127) for {'decisiontreeclassifier__min_samples_split': 2, 'pca__n_components': 5}\n",
      "0.522 (+/-0.166) for {'decisiontreeclassifier__min_samples_split': 2, 'pca__n_components': 7}\n",
      "0.543 (+/-0.130) for {'decisiontreeclassifier__min_samples_split': 4, 'pca__n_components': 2}\n",
      "0.593 (+/-0.231) for {'decisiontreeclassifier__min_samples_split': 4, 'pca__n_components': 3}\n",
      "0.548 (+/-0.163) for {'decisiontreeclassifier__min_samples_split': 4, 'pca__n_components': 4}\n",
      "0.583 (+/-0.172) for {'decisiontreeclassifier__min_samples_split': 4, 'pca__n_components': 5}\n",
      "0.646 (+/-0.243) for {'decisiontreeclassifier__min_samples_split': 4, 'pca__n_components': 7}\n",
      "0.548 (+/-0.124) for {'decisiontreeclassifier__min_samples_split': 6, 'pca__n_components': 2}\n",
      "0.576 (+/-0.236) for {'decisiontreeclassifier__min_samples_split': 6, 'pca__n_components': 3}\n",
      "0.553 (+/-0.168) for {'decisiontreeclassifier__min_samples_split': 6, 'pca__n_components': 4}\n",
      "0.579 (+/-0.174) for {'decisiontreeclassifier__min_samples_split': 6, 'pca__n_components': 5}\n",
      "0.613 (+/-0.367) for {'decisiontreeclassifier__min_samples_split': 6, 'pca__n_components': 7}\n",
      "0.552 (+/-0.120) for {'decisiontreeclassifier__min_samples_split': 8, 'pca__n_components': 2}\n",
      "0.567 (+/-0.232) for {'decisiontreeclassifier__min_samples_split': 8, 'pca__n_components': 3}\n",
      "0.587 (+/-0.264) for {'decisiontreeclassifier__min_samples_split': 8, 'pca__n_components': 4}\n",
      "0.596 (+/-0.249) for {'decisiontreeclassifier__min_samples_split': 8, 'pca__n_components': 5}\n",
      "0.665 (+/-0.382) for {'decisiontreeclassifier__min_samples_split': 8, 'pca__n_components': 7}\n",
      "0.548 (+/-0.124) for {'decisiontreeclassifier__min_samples_split': 10, 'pca__n_components': 2}\n",
      "0.567 (+/-0.232) for {'decisiontreeclassifier__min_samples_split': 10, 'pca__n_components': 3}\n",
      "0.587 (+/-0.255) for {'decisiontreeclassifier__min_samples_split': 10, 'pca__n_components': 4}\n",
      "0.596 (+/-0.249) for {'decisiontreeclassifier__min_samples_split': 10, 'pca__n_components': 5}\n",
      "0.585 (+/-0.235) for {'decisiontreeclassifier__min_samples_split': 10, 'pca__n_components': 7}\n",
      "\n",
      "Detailed classification report:\n",
      "\n",
      "The model is trained on the full development set.\n",
      "The scores are computed on the full evaluation set.\n",
      "\n",
      "             precision    recall  f1-score   support\n",
      "\n",
      "        0.0       0.92      0.92      0.92        13\n",
      "        1.0       0.50      0.50      0.50         2\n",
      "\n",
      "avg / total       0.87      0.87      0.87        15\n",
      "\n",
      "\n"
     ]
    }
   ],
   "source": [
    "from sklearn.preprocessing import MinMaxScaler\n",
    "from sklearn.decomposition import PCA\n",
    "from sklearn.tree import DecisionTreeClassifier\n",
    "from sklearn.pipeline import make_pipeline\n",
    "from sklearn.metrics import classification_report\n",
    "from tempfile import mkdtemp\n",
    "from shutil import rmtree\n",
    "\n",
    "cachedir = mkdtemp()\n",
    "pipe = make_pipeline(PCA(), DecisionTreeClassifier(), memory=cachedir)\n",
    "tuned_parameters = [{'pca__n_components': [2,3,4,5,7],\n",
    "                    'decisiontreeclassifier__min_samples_split': [2,4,6,8,10]\n",
    "                    }]\n",
    "scores = ['precision', 'recall']\n",
    "\n",
    "for score in scores:\n",
    "    print(\"# Tuning hyper-parameters for %s\" % score)\n",
    "    print()\n",
    "\n",
    "    clf = GridSearchCV(pipe, tuned_parameters, cv=5,\n",
    "                       scoring='%s_macro' % score)\n",
    "    clf.fit(features_train, labels_train)\n",
    "\n",
    "    print(\"Best parameters set found on development set:\")\n",
    "    print()\n",
    "    print(clf.best_params_)\n",
    "    print()\n",
    "    print(\"Grid scores on development set:\")\n",
    "    print()\n",
    "    means = clf.cv_results_['mean_test_score']\n",
    "    stds = clf.cv_results_['std_test_score']\n",
    "    for mean, std, params in zip(means, stds, clf.cv_results_['params']):\n",
    "        print(\"%0.3f (+/-%0.03f) for %r\"\n",
    "              % (mean, std * 2, params))\n",
    "    print()\n",
    "\n",
    "    print(\"Detailed classification report:\")\n",
    "    print()\n",
    "    print(\"The model is trained on the full development set.\")\n",
    "    print(\"The scores are computed on the full evaluation set.\")\n",
    "    print()\n",
    "    labels_true, labels_pred = labels_test, clf.predict(features_test)\n",
    "    print(classification_report(labels_true, labels_pred))\n",
    "    print()"
   ]
  },
  {
   "cell_type": "markdown",
   "metadata": {},
   "source": [
    "### Task 6: Dump your classifier, dataset, and features_list"
   ]
  },
  {
   "cell_type": "markdown",
   "metadata": {},
   "source": [
    "The [Gaussian Naive Bayes](http://scikit-learn.org/stable/modules/generated/sklearn.naive_bayes.GaussianNB.html) and [decision tree classifier](http://scikit-learn.org/stable/modules/generated/sklearn.tree.DecisionTreeClassifier.html) show a good performance at the same level. Tuning strategy of these algorithms for the Enron data is to prevent the overfitting. For the [Gaussian Naive Bayes](http://scikit-learn.org/stable/modules/generated/sklearn.naive_bayes.GaussianNB.html), reduction of the feature dimensionality works well. For the [decision tree classifier](http://scikit-learn.org/stable/modules/generated/sklearn.tree.DecisionTreeClassifier.html), the minimum splitting limit helps to fit well. The best case of both models shows 0.5 for precision and recall. When I tested the algorithm using [tester.py](https://github.com/udacity/ud120-projects/blob/master/final_project/tester.py), the decision tree classifier gives higher scores more often. Therefore my pick of the algorithm is the decision tree classifier."
   ]
  },
  {
   "cell_type": "code",
   "execution_count": 114,
   "metadata": {},
   "outputs": [
    {
     "name": "stdout",
     "output_type": "stream",
     "text": [
      "accuracy: 0.8666666666666667\n",
      "precision: 0.5\n",
      "recall: 0.5\n",
      "f1: 0.5\n"
     ]
    }
   ],
   "source": [
    "from sklearn.decomposition import PCA\n",
    "from sklearn.tree import DecisionTreeClassifier\n",
    "from sklearn.naive_bayes import GaussianNB\n",
    "from sklearn.pipeline import Pipeline, make_pipeline\n",
    "from sklearn.metrics import accuracy_score, precision_score, recall_score, f1_score\n",
    "\n",
    "clf = make_pipeline(PCA(n_components=7), DecisionTreeClassifier(min_samples_split=4))\n",
    "clf.fit(features_train, labels_train)\n",
    "labels_pred = clf.predict(features_test)\n",
    "print(\"accuracy:\", accuracy_score(labels_test, labels_pred))\n",
    "print(\"precision:\", precision_score(labels_test, labels_pred))\n",
    "print(\"recall:\", recall_score(labels_test, labels_pred))\n",
    "print(\"f1:\", f1_score(labels_test, labels_pred))"
   ]
  },
  {
   "cell_type": "code",
   "execution_count": 71,
   "metadata": {},
   "outputs": [],
   "source": [
    "dump_classifier_and_data(clf, my_dataset, features_list)"
   ]
  }
 ],
 "metadata": {
  "kernelspec": {
   "display_name": "Python 3",
   "language": "python",
   "name": "python3"
  },
  "language_info": {
   "codemirror_mode": {
    "name": "ipython",
    "version": 3
   },
   "file_extension": ".py",
   "mimetype": "text/x-python",
   "name": "python",
   "nbconvert_exporter": "python",
   "pygments_lexer": "ipython3",
   "version": "3.6.5"
  }
 },
 "nbformat": 4,
 "nbformat_minor": 2
}
